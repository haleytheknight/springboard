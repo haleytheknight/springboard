{
 "cells": [
  {
   "cell_type": "code",
   "execution_count": 13,
   "id": "589d54ad",
   "metadata": {},
   "outputs": [
    {
     "name": "stdout",
     "output_type": "stream",
     "text": [
      "[3.5, 2.0, 10.0, '2', '10', '1']\n"
     ]
    }
   ],
   "source": [
    "sample_input = \"1 7 2 10 20 4\"\n",
    "sample_input = map(int, sample_input)\n",
    "\n",
    "def listLargest(string):\n",
    "    string = string.split()\n",
    "    string = sorted(seq)\n",
    "    seq = seq[::-1]\n",
    "    nSeq = []\n",
    "    for x in seq[0:3]:\n",
    "        x = int(x)/2\n",
    "        nSeq.append(x)\n",
    "    for y in seq[3:]:\n",
    "        nSeq.append(y)\n",
    "    return \"\".join(str(nSeq))\n",
    "    \n",
    "print(listLargest(sample_input))"
   ]
  },
  {
   "cell_type": "code",
   "execution_count": 39,
   "id": "a1d821ed",
   "metadata": {},
   "outputs": [
    {
     "name": "stdout",
     "output_type": "stream",
     "text": [
      "<map object at 0x7fa8edd3e3d0>\n"
     ]
    }
   ],
   "source": [
    "# attempt 2\n",
    "s = '1 7 2 10 20 4'\n",
    "s = max(s.split(), key=int)\n",
    "\n",
    "def divideLargest(s):\n",
    "    for x in s:\n",
    "        if x == max(s):\n",
    "            y = (int(x) / 2)\n",
    "            y = str(y)\n",
    "            s.replace(x, y)\n",
    "    return s\n",
    "\n",
    "print(divideLargest(s))"
   ]
  },
  {
   "cell_type": "code",
   "execution_count": null,
   "id": "3ebd887b",
   "metadata": {},
   "outputs": [],
   "source": []
  }
 ],
 "metadata": {
  "kernelspec": {
   "display_name": "Python 3",
   "language": "python",
   "name": "python3"
  },
  "language_info": {
   "codemirror_mode": {
    "name": "ipython",
    "version": 3
   },
   "file_extension": ".py",
   "mimetype": "text/x-python",
   "name": "python",
   "nbconvert_exporter": "python",
   "pygments_lexer": "ipython3",
   "version": "3.8.8"
  }
 },
 "nbformat": 4,
 "nbformat_minor": 5
}
