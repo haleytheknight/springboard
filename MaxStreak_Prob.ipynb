{
 "cells": [
  {
   "cell_type": "code",
   "execution_count": 12,
   "id": "78377ae2",
   "metadata": {},
   "outputs": [
    {
     "name": "stdout",
     "output_type": "stream",
     "text": [
      "3\n"
     ]
    }
   ],
   "source": [
    "sample_input = \"Y Y N Y Y Y N N Y\"\n",
    "\n",
    "def findStreak(string):\n",
    "    yStreak = 0\n",
    "    maxStreak = 0\n",
    "    msl = []\n",
    "    for i in string:\n",
    "        if i == 'Y':\n",
    "            yStreak += 1\n",
    "            if yStreak > maxStreak:\n",
    "                maxStreak = yStreak\n",
    "                msl.append(maxStreak)\n",
    "                yStreak = 0\n",
    "    return max(msl)\n",
    "\n",
    "print(findStreak(sample_input))"
   ]
  },
  {
   "cell_type": "code",
   "execution_count": null,
   "id": "12df9ea9",
   "metadata": {},
   "outputs": [],
   "source": []
  }
 ],
 "metadata": {
  "kernelspec": {
   "display_name": "Python 3",
   "language": "python",
   "name": "python3"
  },
  "language_info": {
   "codemirror_mode": {
    "name": "ipython",
    "version": 3
   },
   "file_extension": ".py",
   "mimetype": "text/x-python",
   "name": "python",
   "nbconvert_exporter": "python",
   "pygments_lexer": "ipython3",
   "version": "3.8.8"
  }
 },
 "nbformat": 4,
 "nbformat_minor": 5
}
