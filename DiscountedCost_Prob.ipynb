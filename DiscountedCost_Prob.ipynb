{
 "cells": [
  {
   "cell_type": "code",
   "execution_count": null,
   "id": "643114c5",
   "metadata": {},
   "outputs": [],
   "source": [
    "#A boutique store is offering the following sale:\n",
    "# 1. 25% off any item priced at $100 or above\n",
    "# 2. 50% off any item priced at $200 or above\n",
    "# 3. An additional $50 off at the register if the total after applying the \tprevious discounts is $300 or above\n",
    "\n",
    "#On a single line of standard input, you’re given the list of full prices of items a customer has in her\n",
    "#shopping cart.\n",
    "\n",
    "#Your task is to calculate the final sale price and print it to Standard Output."
   ]
  },
  {
   "cell_type": "code",
   "execution_count": 4,
   "id": "f83555f0",
   "metadata": {},
   "outputs": [
    {
     "name": "stdout",
     "output_type": "stream",
     "text": [
      "410\n"
     ]
    }
   ],
   "source": [
    "string = \"160 40 20 300 50 80\" #this string can be replaced with input()\n",
    "string = string.split()\n",
    "mapped_string = map(int, string)\n",
    "s = list(mapped_string)\n",
    "\n",
    "def SalePrices(s):\n",
    "    sale = []\n",
    "    for x in s:\n",
    "        if x >= 200:\n",
    "            x = x * .5\n",
    "            sale.append(x)\n",
    "        elif x >= 100:\n",
    "            x = x * .75\n",
    "            sale.append(x)\n",
    "        else:\n",
    "            sale.append(x)\n",
    "    reduction = sum(sale)\n",
    "    \n",
    "    if reduction >= 300:\n",
    "        reduction = reduction - 50\n",
    "    return reduction\n",
    "\n",
    "print(int(SalePrices(s)))"
   ]
  },
  {
   "cell_type": "code",
   "execution_count": null,
   "id": "ea8744fe",
   "metadata": {},
   "outputs": [],
   "source": []
  },
  {
   "cell_type": "code",
   "execution_count": null,
   "id": "1927110e",
   "metadata": {},
   "outputs": [],
   "source": []
  }
 ],
 "metadata": {
  "kernelspec": {
   "display_name": "Python 3",
   "language": "python",
   "name": "python3"
  },
  "language_info": {
   "codemirror_mode": {
    "name": "ipython",
    "version": 3
   },
   "file_extension": ".py",
   "mimetype": "text/x-python",
   "name": "python",
   "nbconvert_exporter": "python",
   "pygments_lexer": "ipython3",
   "version": "3.8.8"
  }
 },
 "nbformat": 4,
 "nbformat_minor": 5
}
