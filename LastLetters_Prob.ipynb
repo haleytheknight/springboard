{
 "cells": [
  {
   "cell_type": "code",
   "execution_count": null,
   "id": "25be3c7f",
   "metadata": {},
   "outputs": [],
   "source": [
    "# Given a string on a single line via Standard Input, create a new string made up as follows:\n",
    "# 1. Take the last two characters of the input of the string.\n",
    "# 2. Convert them to lower case.\n",
    "# 3. Reverse them and separate them by a single space.\n",
    "\n",
    "# Example:\n",
    "\n",
    "# Input: baT\n",
    "# Output: t a\n"
   ]
  },
  {
   "cell_type": "code",
   "execution_count": 5,
   "id": "624d98eb",
   "metadata": {},
   "outputs": [
    {
     "name": "stdout",
     "output_type": "stream",
     "text": [
      "y e\n"
     ]
    }
   ],
   "source": [
    "sample_input = 'HaleY'\n",
    "sample_input = sample_input.lower()\n",
    "\n",
    "s1 = sample_input[-1]\n",
    "s2 = sample_input[-2]\n",
    "\n",
    "print(s1 + \" \" + s2)\n",
    "    "
   ]
  }
 ],
 "metadata": {
  "kernelspec": {
   "display_name": "Python 3",
   "language": "python",
   "name": "python3"
  },
  "language_info": {
   "codemirror_mode": {
    "name": "ipython",
    "version": 3
   },
   "file_extension": ".py",
   "mimetype": "text/x-python",
   "name": "python",
   "nbconvert_exporter": "python",
   "pygments_lexer": "ipython3",
   "version": "3.8.8"
  }
 },
 "nbformat": 4,
 "nbformat_minor": 5
}
